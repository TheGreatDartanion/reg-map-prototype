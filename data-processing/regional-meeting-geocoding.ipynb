{
 "cells": [
  {
   "cell_type": "code",
   "execution_count": 9,
   "metadata": {},
   "outputs": [],
   "source": [
    "# Dependencies\n",
    "import requests\n",
    "import json\n",
    "import pandas as pd\n",
    "# Google developer API key\n",
    "from config import gkey"
   ]
  },
  {
   "cell_type": "code",
   "execution_count": 10,
   "metadata": {},
   "outputs": [],
   "source": [
    "#pd.read_excel?"
   ]
  },
  {
   "cell_type": "code",
   "execution_count": 12,
   "metadata": {},
   "outputs": [
    {
     "data": {
      "text/html": [
       "<div>\n",
       "<style scoped>\n",
       "    .dataframe tbody tr th:only-of-type {\n",
       "        vertical-align: middle;\n",
       "    }\n",
       "\n",
       "    .dataframe tbody tr th {\n",
       "        vertical-align: top;\n",
       "    }\n",
       "\n",
       "    .dataframe thead th {\n",
       "        text-align: right;\n",
       "    }\n",
       "</style>\n",
       "<table border=\"1\" class=\"dataframe\">\n",
       "  <thead>\n",
       "    <tr style=\"text-align: right;\">\n",
       "      <th></th>\n",
       "      <th>Column1</th>\n",
       "      <th>ship_to_name</th>\n",
       "      <th>ship_to_full_address</th>\n",
       "      <th>key</th>\n",
       "      <th>Updated name</th>\n",
       "      <th>record_count</th>\n",
       "    </tr>\n",
       "  </thead>\n",
       "  <tbody>\n",
       "    <tr>\n",
       "      <th>0</th>\n",
       "      <td>2</td>\n",
       "      <td>PHILA YMCA WOMENS OPPORTUNITY CNTR</td>\n",
       "      <td>8008 RTE 130 N DELRAN NJ 08075</td>\n",
       "      <td>8008 Rte 130N, Building A Suite 216 Delran, NJ...</td>\n",
       "      <td>NaN</td>\n",
       "      <td>12</td>\n",
       "    </tr>\n",
       "    <tr>\n",
       "      <th>1</th>\n",
       "      <td>8</td>\n",
       "      <td>New Braunfels YMCA</td>\n",
       "      <td>545 Creekside Xing Suite 145, New Braunfels TX...</td>\n",
       "      <td>New Braunfels Family YMCA 545 Creekside Crossi...</td>\n",
       "      <td>NaN</td>\n",
       "      <td>5</td>\n",
       "    </tr>\n",
       "    <tr>\n",
       "      <th>2</th>\n",
       "      <td>10</td>\n",
       "      <td>ACCOUNTING</td>\n",
       "      <td>435 S HYCLIFF DR APT 628A WATERTOWN NY 13601</td>\n",
       "      <td>Watertown Family YMCA 119 Washington St, Water...</td>\n",
       "      <td>NaN</td>\n",
       "      <td>5</td>\n",
       "    </tr>\n",
       "    <tr>\n",
       "      <th>3</th>\n",
       "      <td>11</td>\n",
       "      <td>GATEWAY YMCA                                  ...</td>\n",
       "      <td>3390 PERSHALL RD SAINT LOUIS MO 63135-1407</td>\n",
       "      <td>Emerson Family YMCA 3390 Pershall Rd, St. Loui...</td>\n",
       "      <td>NaN</td>\n",
       "      <td>5</td>\n",
       "    </tr>\n",
       "    <tr>\n",
       "      <th>4</th>\n",
       "      <td>19</td>\n",
       "      <td>YMCA Fox Cities</td>\n",
       "      <td>5414 Plugger Rd., Schiocton, WI 54170</td>\n",
       "      <td>N5414 Pluger Rd Shiocton, WI 54170</td>\n",
       "      <td>YMCA of the Fox Cities - Camp Shioc</td>\n",
       "      <td>3</td>\n",
       "    </tr>\n",
       "  </tbody>\n",
       "</table>\n",
       "</div>"
      ],
      "text/plain": [
       "   Column1                                       ship_to_name  \\\n",
       "0        2                 PHILA YMCA WOMENS OPPORTUNITY CNTR   \n",
       "1        8                                 New Braunfels YMCA   \n",
       "2       10                                         ACCOUNTING   \n",
       "3       11  GATEWAY YMCA                                  ...   \n",
       "4       19                                    YMCA Fox Cities   \n",
       "\n",
       "                                ship_to_full_address  \\\n",
       "0                     8008 RTE 130 N DELRAN NJ 08075   \n",
       "1  545 Creekside Xing Suite 145, New Braunfels TX...   \n",
       "2       435 S HYCLIFF DR APT 628A WATERTOWN NY 13601   \n",
       "3         3390 PERSHALL RD SAINT LOUIS MO 63135-1407   \n",
       "4              5414 Plugger Rd., Schiocton, WI 54170   \n",
       "\n",
       "                                                 key  \\\n",
       "0  8008 Rte 130N, Building A Suite 216 Delran, NJ...   \n",
       "1  New Braunfels Family YMCA 545 Creekside Crossi...   \n",
       "2  Watertown Family YMCA 119 Washington St, Water...   \n",
       "3  Emerson Family YMCA 3390 Pershall Rd, St. Loui...   \n",
       "4                 N5414 Pluger Rd Shiocton, WI 54170   \n",
       "\n",
       "                          Updated name  record_count  \n",
       "0                                  NaN            12  \n",
       "1                                  NaN             5  \n",
       "2                                  NaN             5  \n",
       "3                                  NaN             5  \n",
       "4  YMCA of the Fox Cities - Camp Shioc             3  "
      ]
     },
     "execution_count": 12,
     "metadata": {},
     "output_type": "execute_result"
    }
   ],
   "source": [
    "y_loc = pd.read_excel('round-3b.xlsx', sheet_name='Sheet2')\n",
    "y_loc.head()"
   ]
  },
  {
   "cell_type": "code",
   "execution_count": 13,
   "metadata": {},
   "outputs": [],
   "source": [
    "#y_loc = pd.DataFrame([{'ship_to_full_address':'N5414 Pluger Rd Shiocton, WI 54170'}])\n",
    "#y_loc"
   ]
  },
  {
   "cell_type": "code",
   "execution_count": 14,
   "metadata": {},
   "outputs": [
    {
     "name": "stdout",
     "output_type": "stream",
     "text": [
      "0\n",
      "1\n",
      "2\n",
      "3\n",
      "4\n",
      "5\n",
      "6\n",
      "7\n",
      "8\n",
      "9\n",
      "10\n"
     ]
    }
   ],
   "source": [
    "for k,v in y_loc.iterrows():\n",
    "    try:\n",
    "        ymca_name = v['key']\n",
    "\n",
    "        target_search = ymca_name\n",
    "\n",
    "        params = {\n",
    "            \"key\": gkey,\n",
    "            \"input\": target_search,\n",
    "            \"inputtype\": 'textquery'\n",
    "        }\n",
    "\n",
    "        base_url = \"https://maps.googleapis.com/maps/api/place/findplacefromtext/json\"\n",
    "        response = requests.get(base_url, params=params)\n",
    "        places_data = response.json()    \n",
    "        placeid = places_data['candidates'][0]['place_id']\n",
    "\n",
    "        ## look up placeid\n",
    "        params = {\n",
    "            \"key\": gkey,\n",
    "            \"placeid\": placeid,\n",
    "        }\n",
    "\n",
    "        #base_url = \"https://maps.googleapis.com/maps/api/place/nearbysearch/json\"\n",
    "        base_url = \"https://maps.googleapis.com/maps/api/place/details/json\"\n",
    "\n",
    "        # run a request using our params dictionary\n",
    "        response = requests.get(base_url, params=params)\n",
    "\n",
    "        # convert response to json\n",
    "        places_data = response.json()\n",
    "        #print(json.dumps(places_data, indent=4))\n",
    "\n",
    "        place_name = places_data['result']['name']\n",
    "        place_address = places_data['result']['formatted_address'] # places_data['result']['vicinity']\n",
    "        formatted_address = places_data['result']['formatted_address']\n",
    "        place_id = placeid\n",
    "        lat = places_data['result']['geometry']['location']['lat']\n",
    "        lng = places_data['result']['geometry']['location']['lng']\n",
    "        \n",
    "        y_loc.loc[k,'name'] = place_name\n",
    "        y_loc.loc[k,'address'] = place_address\n",
    "        y_loc.loc[k,'full_address'] = formatted_address\n",
    "        y_loc.loc[k,'placeid'] = placeid\n",
    "        y_loc.loc[k,'lat'] = lat\n",
    "        y_loc.loc[k,'lng'] = lng\n",
    "    \n",
    "        print(k)\n",
    "    except Exception as e:\n",
    "        print(e)\n",
    "        print(places_data)\n",
    "        pass"
   ]
  },
  {
   "cell_type": "code",
   "execution_count": 15,
   "metadata": {},
   "outputs": [
    {
     "data": {
      "text/html": [
       "<div>\n",
       "<style scoped>\n",
       "    .dataframe tbody tr th:only-of-type {\n",
       "        vertical-align: middle;\n",
       "    }\n",
       "\n",
       "    .dataframe tbody tr th {\n",
       "        vertical-align: top;\n",
       "    }\n",
       "\n",
       "    .dataframe thead th {\n",
       "        text-align: right;\n",
       "    }\n",
       "</style>\n",
       "<table border=\"1\" class=\"dataframe\">\n",
       "  <thead>\n",
       "    <tr style=\"text-align: right;\">\n",
       "      <th></th>\n",
       "      <th>Column1</th>\n",
       "      <th>ship_to_name</th>\n",
       "      <th>ship_to_full_address</th>\n",
       "      <th>key</th>\n",
       "      <th>Updated name</th>\n",
       "      <th>record_count</th>\n",
       "      <th>name</th>\n",
       "      <th>address</th>\n",
       "      <th>full_address</th>\n",
       "      <th>placeid</th>\n",
       "      <th>lat</th>\n",
       "      <th>lng</th>\n",
       "    </tr>\n",
       "  </thead>\n",
       "  <tbody>\n",
       "    <tr>\n",
       "      <th>0</th>\n",
       "      <td>2</td>\n",
       "      <td>PHILA YMCA WOMENS OPPORTUNITY CNTR</td>\n",
       "      <td>8008 RTE 130 N DELRAN NJ 08075</td>\n",
       "      <td>8008 Rte 130N, Building A Suite 216 Delran, NJ...</td>\n",
       "      <td>NaN</td>\n",
       "      <td>12</td>\n",
       "      <td>Planned Parenthood - Delran Health Center</td>\n",
       "      <td>8008 Route 130N Building B, Suite 305, Delran,...</td>\n",
       "      <td>8008 Route 130N Building B, Suite 305, Delran,...</td>\n",
       "      <td>ChIJR9ojW3RMwYkR3fCCLxKC9Y0</td>\n",
       "      <td>40.023273</td>\n",
       "      <td>-74.937591</td>\n",
       "    </tr>\n",
       "    <tr>\n",
       "      <th>1</th>\n",
       "      <td>8</td>\n",
       "      <td>New Braunfels YMCA</td>\n",
       "      <td>545 Creekside Xing Suite 145, New Braunfels TX...</td>\n",
       "      <td>New Braunfels Family YMCA 545 Creekside Crossi...</td>\n",
       "      <td>NaN</td>\n",
       "      <td>5</td>\n",
       "      <td>New Braunfels Family YMCA</td>\n",
       "      <td>545 Creekside Crossing, New Braunfels, TX 7813...</td>\n",
       "      <td>545 Creekside Crossing, New Braunfels, TX 7813...</td>\n",
       "      <td>ChIJWdEq56CbXIYR2oEQE431fms</td>\n",
       "      <td>29.720924</td>\n",
       "      <td>-98.071267</td>\n",
       "    </tr>\n",
       "    <tr>\n",
       "      <th>2</th>\n",
       "      <td>10</td>\n",
       "      <td>ACCOUNTING</td>\n",
       "      <td>435 S HYCLIFF DR APT 628A WATERTOWN NY 13601</td>\n",
       "      <td>Watertown Family YMCA 119 Washington St, Water...</td>\n",
       "      <td>NaN</td>\n",
       "      <td>5</td>\n",
       "      <td>Watertown Family YMCA</td>\n",
       "      <td>119 Washington St, Watertown, NY 13601, USA</td>\n",
       "      <td>119 Washington St, Watertown, NY 13601, USA</td>\n",
       "      <td>ChIJnWQDMP1v2IkRD53gi-OLyYM</td>\n",
       "      <td>43.974324</td>\n",
       "      <td>-75.910492</td>\n",
       "    </tr>\n",
       "    <tr>\n",
       "      <th>3</th>\n",
       "      <td>11</td>\n",
       "      <td>GATEWAY YMCA                                  ...</td>\n",
       "      <td>3390 PERSHALL RD SAINT LOUIS MO 63135-1407</td>\n",
       "      <td>Emerson Family YMCA 3390 Pershall Rd, St. Loui...</td>\n",
       "      <td>NaN</td>\n",
       "      <td>5</td>\n",
       "      <td>Emerson Family YMCA</td>\n",
       "      <td>3390 Pershall Rd, St. Louis, MO 63135, USA</td>\n",
       "      <td>3390 Pershall Rd, St. Louis, MO 63135, USA</td>\n",
       "      <td>ChIJq8EDYshJ34cRjAEF3xf4Eko</td>\n",
       "      <td>38.769117</td>\n",
       "      <td>-90.282817</td>\n",
       "    </tr>\n",
       "    <tr>\n",
       "      <th>4</th>\n",
       "      <td>19</td>\n",
       "      <td>YMCA Fox Cities</td>\n",
       "      <td>5414 Plugger Rd., Schiocton, WI 54170</td>\n",
       "      <td>N5414 Pluger Rd Shiocton, WI 54170</td>\n",
       "      <td>YMCA of the Fox Cities - Camp Shioc</td>\n",
       "      <td>3</td>\n",
       "      <td>N5414 Pluger Rd</td>\n",
       "      <td>N5414 Pluger Rd, Shiocton, WI 54170, USA</td>\n",
       "      <td>N5414 Pluger Rd, Shiocton, WI 54170, USA</td>\n",
       "      <td>ChIJw78aWng0AogRxgbtd4TCqQQ</td>\n",
       "      <td>44.435354</td>\n",
       "      <td>-88.554761</td>\n",
       "    </tr>\n",
       "    <tr>\n",
       "      <th>5</th>\n",
       "      <td>20</td>\n",
       "      <td>KETTLE MORAINE YMCA</td>\n",
       "      <td>321 N MAIN ST STE 100 WEST BEND WI 53095</td>\n",
       "      <td>321 N Main St West Bend, WI 53095</td>\n",
       "      <td>Kettle Moraine YMCA - Association Office</td>\n",
       "      <td>3</td>\n",
       "      <td>321 N Main St</td>\n",
       "      <td>321 N Main St, West Bend, WI 53095, USA</td>\n",
       "      <td>321 N Main St, West Bend, WI 53095, USA</td>\n",
       "      <td>ChIJYbKUC3RfBIgRqc_Q0PL9kzA</td>\n",
       "      <td>43.426249</td>\n",
       "      <td>-88.183783</td>\n",
       "    </tr>\n",
       "    <tr>\n",
       "      <th>6</th>\n",
       "      <td>21</td>\n",
       "      <td>GREAT MIAMI VALLEY YMCA</td>\n",
       "      <td>105 N 2ND ST FL 2 HAMILTON OH 45011</td>\n",
       "      <td>Hamilton Central YMCA 105 N 2nd St Hamilton, OH</td>\n",
       "      <td>Hamilton Central YMCA</td>\n",
       "      <td>3</td>\n",
       "      <td>Hamilton Central YMCA</td>\n",
       "      <td>105 N 2nd St, Hamilton, OH 45011, USA</td>\n",
       "      <td>105 N 2nd St, Hamilton, OH 45011, USA</td>\n",
       "      <td>ChIJM9QLfVVGQIgRPy52TWAmVas</td>\n",
       "      <td>39.400819</td>\n",
       "      <td>-84.561855</td>\n",
       "    </tr>\n",
       "    <tr>\n",
       "      <th>7</th>\n",
       "      <td>26</td>\n",
       "      <td>RACINE YMCA LAKEFRONT Y BRANCH</td>\n",
       "      <td>141 N MAIN ST RACINE WI 53403</td>\n",
       "      <td>141 N. Main Street Racine, WI 53403</td>\n",
       "      <td>RIVERSIDE BRANCH</td>\n",
       "      <td>3</td>\n",
       "      <td>YMCA Riverside Branch 141 Main St Suite 5 Raci...</td>\n",
       "      <td>141 Main St, Racine, WI 53403, USA</td>\n",
       "      <td>141 Main St, Racine, WI 53403, USA</td>\n",
       "      <td>ChIJzx8z_KtDBYgRLSnvlHUcFFI</td>\n",
       "      <td>42.731918</td>\n",
       "      <td>-87.783184</td>\n",
       "    </tr>\n",
       "    <tr>\n",
       "      <th>8</th>\n",
       "      <td>33</td>\n",
       "      <td>YMCA of Greater Houston</td>\n",
       "      <td>8602 S Mason, Katy, TX 77450</td>\n",
       "      <td>YMCA of Greater Houston 2600 N Loop W Fwy #300...</td>\n",
       "      <td>NaN</td>\n",
       "      <td>1</td>\n",
       "      <td>YMCA of Greater Houston</td>\n",
       "      <td>2600 N Loop W Fwy #300, Houston, TX 77092, USA</td>\n",
       "      <td>2600 N Loop W Fwy #300, Houston, TX 77092, USA</td>\n",
       "      <td>ChIJPXJQXvrGQIYRYxT79xg-hgU</td>\n",
       "      <td>29.807367</td>\n",
       "      <td>-95.445577</td>\n",
       "    </tr>\n",
       "    <tr>\n",
       "      <th>9</th>\n",
       "      <td>36</td>\n",
       "      <td>YMCA OF GREATER RICHMOND                      ...</td>\n",
       "      <td>3201 WATTS LN RICHMOND VA 23223-2183</td>\n",
       "      <td>Frank J. Thornton YMCA Aquatic Center 3201 Wat...</td>\n",
       "      <td>NaN</td>\n",
       "      <td>1</td>\n",
       "      <td>Frank J. Thornton YMCA Aquatic Center</td>\n",
       "      <td>3201 Watts Ln, Richmond, VA 23223, USA</td>\n",
       "      <td>3201 Watts Ln, Richmond, VA 23223, USA</td>\n",
       "      <td>ChIJH61q5bsXsYkR_MPsu6EDQIw</td>\n",
       "      <td>37.564695</td>\n",
       "      <td>-77.380433</td>\n",
       "    </tr>\n",
       "    <tr>\n",
       "      <th>10</th>\n",
       "      <td>38</td>\n",
       "      <td>YMCA OF GREATER TULSA- METRO BRANCH</td>\n",
       "      <td>420 S MAIN STE 200 TULSA OK 74103</td>\n",
       "      <td>420 S Main St #200, Tulsa, OK</td>\n",
       "      <td>YMCA of Greater Tulsa - Association Office</td>\n",
       "      <td>1</td>\n",
       "      <td>420 S Main St #200</td>\n",
       "      <td>420 S Main St #200, Tulsa, OK 74103, USA</td>\n",
       "      <td>420 S Main St #200, Tulsa, OK 74103, USA</td>\n",
       "      <td>Eig0MjAgUyBNYWluIFN0ICMyMDAsIFR1bHNhLCBPSyA3ND...</td>\n",
       "      <td>36.151563</td>\n",
       "      <td>-95.990527</td>\n",
       "    </tr>\n",
       "  </tbody>\n",
       "</table>\n",
       "</div>"
      ],
      "text/plain": [
       "    Column1                                       ship_to_name  \\\n",
       "0         2                 PHILA YMCA WOMENS OPPORTUNITY CNTR   \n",
       "1         8                                 New Braunfels YMCA   \n",
       "2        10                                         ACCOUNTING   \n",
       "3        11  GATEWAY YMCA                                  ...   \n",
       "4        19                                    YMCA Fox Cities   \n",
       "5        20                                KETTLE MORAINE YMCA   \n",
       "6        21                            GREAT MIAMI VALLEY YMCA   \n",
       "7        26                     RACINE YMCA LAKEFRONT Y BRANCH   \n",
       "8        33                            YMCA of Greater Houston   \n",
       "9        36  YMCA OF GREATER RICHMOND                      ...   \n",
       "10       38                YMCA OF GREATER TULSA- METRO BRANCH   \n",
       "\n",
       "                                 ship_to_full_address  \\\n",
       "0                      8008 RTE 130 N DELRAN NJ 08075   \n",
       "1   545 Creekside Xing Suite 145, New Braunfels TX...   \n",
       "2        435 S HYCLIFF DR APT 628A WATERTOWN NY 13601   \n",
       "3          3390 PERSHALL RD SAINT LOUIS MO 63135-1407   \n",
       "4               5414 Plugger Rd., Schiocton, WI 54170   \n",
       "5            321 N MAIN ST STE 100 WEST BEND WI 53095   \n",
       "6                 105 N 2ND ST FL 2 HAMILTON OH 45011   \n",
       "7                       141 N MAIN ST RACINE WI 53403   \n",
       "8                        8602 S Mason, Katy, TX 77450   \n",
       "9                3201 WATTS LN RICHMOND VA 23223-2183   \n",
       "10                  420 S MAIN STE 200 TULSA OK 74103   \n",
       "\n",
       "                                                  key  \\\n",
       "0   8008 Rte 130N, Building A Suite 216 Delran, NJ...   \n",
       "1   New Braunfels Family YMCA 545 Creekside Crossi...   \n",
       "2   Watertown Family YMCA 119 Washington St, Water...   \n",
       "3   Emerson Family YMCA 3390 Pershall Rd, St. Loui...   \n",
       "4                  N5414 Pluger Rd Shiocton, WI 54170   \n",
       "5                   321 N Main St West Bend, WI 53095   \n",
       "6     Hamilton Central YMCA 105 N 2nd St Hamilton, OH   \n",
       "7                 141 N. Main Street Racine, WI 53403   \n",
       "8   YMCA of Greater Houston 2600 N Loop W Fwy #300...   \n",
       "9   Frank J. Thornton YMCA Aquatic Center 3201 Wat...   \n",
       "10                      420 S Main St #200, Tulsa, OK   \n",
       "\n",
       "                                  Updated name  record_count  \\\n",
       "0                                          NaN            12   \n",
       "1                                          NaN             5   \n",
       "2                                          NaN             5   \n",
       "3                                          NaN             5   \n",
       "4          YMCA of the Fox Cities - Camp Shioc             3   \n",
       "5     Kettle Moraine YMCA - Association Office             3   \n",
       "6                        Hamilton Central YMCA             3   \n",
       "7                             RIVERSIDE BRANCH             3   \n",
       "8                                          NaN             1   \n",
       "9                                          NaN             1   \n",
       "10  YMCA of Greater Tulsa - Association Office             1   \n",
       "\n",
       "                                                 name  \\\n",
       "0           Planned Parenthood - Delran Health Center   \n",
       "1                           New Braunfels Family YMCA   \n",
       "2                               Watertown Family YMCA   \n",
       "3                                 Emerson Family YMCA   \n",
       "4                                     N5414 Pluger Rd   \n",
       "5                                       321 N Main St   \n",
       "6                               Hamilton Central YMCA   \n",
       "7   YMCA Riverside Branch 141 Main St Suite 5 Raci...   \n",
       "8                             YMCA of Greater Houston   \n",
       "9               Frank J. Thornton YMCA Aquatic Center   \n",
       "10                                 420 S Main St #200   \n",
       "\n",
       "                                              address  \\\n",
       "0   8008 Route 130N Building B, Suite 305, Delran,...   \n",
       "1   545 Creekside Crossing, New Braunfels, TX 7813...   \n",
       "2         119 Washington St, Watertown, NY 13601, USA   \n",
       "3          3390 Pershall Rd, St. Louis, MO 63135, USA   \n",
       "4            N5414 Pluger Rd, Shiocton, WI 54170, USA   \n",
       "5             321 N Main St, West Bend, WI 53095, USA   \n",
       "6               105 N 2nd St, Hamilton, OH 45011, USA   \n",
       "7                  141 Main St, Racine, WI 53403, USA   \n",
       "8      2600 N Loop W Fwy #300, Houston, TX 77092, USA   \n",
       "9              3201 Watts Ln, Richmond, VA 23223, USA   \n",
       "10           420 S Main St #200, Tulsa, OK 74103, USA   \n",
       "\n",
       "                                         full_address  \\\n",
       "0   8008 Route 130N Building B, Suite 305, Delran,...   \n",
       "1   545 Creekside Crossing, New Braunfels, TX 7813...   \n",
       "2         119 Washington St, Watertown, NY 13601, USA   \n",
       "3          3390 Pershall Rd, St. Louis, MO 63135, USA   \n",
       "4            N5414 Pluger Rd, Shiocton, WI 54170, USA   \n",
       "5             321 N Main St, West Bend, WI 53095, USA   \n",
       "6               105 N 2nd St, Hamilton, OH 45011, USA   \n",
       "7                  141 Main St, Racine, WI 53403, USA   \n",
       "8      2600 N Loop W Fwy #300, Houston, TX 77092, USA   \n",
       "9              3201 Watts Ln, Richmond, VA 23223, USA   \n",
       "10           420 S Main St #200, Tulsa, OK 74103, USA   \n",
       "\n",
       "                                              placeid        lat        lng  \n",
       "0                         ChIJR9ojW3RMwYkR3fCCLxKC9Y0  40.023273 -74.937591  \n",
       "1                         ChIJWdEq56CbXIYR2oEQE431fms  29.720924 -98.071267  \n",
       "2                         ChIJnWQDMP1v2IkRD53gi-OLyYM  43.974324 -75.910492  \n",
       "3                         ChIJq8EDYshJ34cRjAEF3xf4Eko  38.769117 -90.282817  \n",
       "4                         ChIJw78aWng0AogRxgbtd4TCqQQ  44.435354 -88.554761  \n",
       "5                         ChIJYbKUC3RfBIgRqc_Q0PL9kzA  43.426249 -88.183783  \n",
       "6                         ChIJM9QLfVVGQIgRPy52TWAmVas  39.400819 -84.561855  \n",
       "7                         ChIJzx8z_KtDBYgRLSnvlHUcFFI  42.731918 -87.783184  \n",
       "8                         ChIJPXJQXvrGQIYRYxT79xg-hgU  29.807367 -95.445577  \n",
       "9                         ChIJH61q5bsXsYkR_MPsu6EDQIw  37.564695 -77.380433  \n",
       "10  Eig0MjAgUyBNYWluIFN0ICMyMDAsIFR1bHNhLCBPSyA3ND...  36.151563 -95.990527  "
      ]
     },
     "execution_count": 15,
     "metadata": {},
     "output_type": "execute_result"
    }
   ],
   "source": [
    "y_loc"
   ]
  },
  {
   "cell_type": "code",
   "execution_count": 16,
   "metadata": {},
   "outputs": [],
   "source": [
    "y_loc.to_excel('third-round-resultsb.xlsx')"
   ]
  },
  {
   "cell_type": "code",
   "execution_count": null,
   "metadata": {},
   "outputs": [],
   "source": [
    "# x x x x x stop here x x x x "
   ]
  },
  {
   "cell_type": "code",
   "execution_count": null,
   "metadata": {},
   "outputs": [],
   "source": []
  },
  {
   "cell_type": "code",
   "execution_count": null,
   "metadata": {},
   "outputs": [],
   "source": [
    "len(y_loc)"
   ]
  },
  {
   "cell_type": "code",
   "execution_count": null,
   "metadata": {},
   "outputs": [],
   "source": [
    "ofc_list.to_sql('stg_member_list_w_join_date', con=cxn)"
   ]
  },
  {
   "cell_type": "code",
   "execution_count": null,
   "metadata": {},
   "outputs": [],
   "source": [
    "mem_list = pd.read_excel('YPG-Official-Member-List.xlsx')\n",
    "\n",
    "mem_list['name'] = None\n",
    "mem_list['address'] = None\n",
    "mem_list['placeid'] = None\n",
    "\n",
    "mem_list.head()"
   ]
  },
  {
   "cell_type": "code",
   "execution_count": null,
   "metadata": {},
   "outputs": [],
   "source": [
    "for k,v in mem_list.iterrows():\n",
    "    try:\n",
    "        ymca_name = v['Official Name']\n",
    "\n",
    "        target_search = ymca_name\n",
    "\n",
    "        params = {\n",
    "            \"key\": gkey,\n",
    "            \"input\": target_search,\n",
    "            \"inputtype\": 'textquery'\n",
    "        }\n",
    "\n",
    "        base_url = \"https://maps.googleapis.com/maps/api/place/findplacefromtext/json\"\n",
    "        response = requests.get(base_url, params=params)\n",
    "        places_data = response.json()    \n",
    "        placeid = places_data['candidates'][0]['place_id']\n",
    "\n",
    "        ## look up placeid\n",
    "        params = {\n",
    "            \"key\": gkey,\n",
    "            \"placeid\": placeid,\n",
    "        }\n",
    "\n",
    "        #base_url = \"https://maps.googleapis.com/maps/api/place/nearbysearch/json\"\n",
    "        base_url = \"https://maps.googleapis.com/maps/api/place/details/json\"\n",
    "\n",
    "        # run a request using our params dictionary\n",
    "        response = requests.get(base_url, params=params)\n",
    "\n",
    "        # convert response to json\n",
    "        places_data = response.json()\n",
    "\n",
    "        place_name = places_data['result']['name']\n",
    "        place_address = places_data['result']['vicinity']\n",
    "        place_id = placeid\n",
    "        \n",
    "        mem_list.loc[k,'name'] = place_name\n",
    "        mem_list.loc[k,'address'] = place_address\n",
    "        mem_list.loc[k,'placeid'] = placeid\n",
    "    \n",
    "        print(k)\n",
    "    except Exception as e:\n",
    "        print(e)\n",
    "        pass"
   ]
  },
  {
   "cell_type": "code",
   "execution_count": null,
   "metadata": {},
   "outputs": [],
   "source": [
    "\n",
    "mem_list.to_excel('YPG-Official-Member-List-GEOCODED-Data-Updates.xlsx')"
   ]
  },
  {
   "cell_type": "markdown",
   "metadata": {},
   "source": [
    "# READING IN GEOCODED DATA"
   ]
  },
  {
   "cell_type": "code",
   "execution_count": null,
   "metadata": {},
   "outputs": [],
   "source": [
    "#y_loc = pd.read_excel('geocoded_ymca.xlsx')\n",
    "y_loc = pd.read_excel('geocoded_ymca_w_master.xlsx')\n",
    "mem_list = pd.read_excel('YPG-Official-Member-List-GEOCODED.xlsx')"
   ]
  },
  {
   "cell_type": "code",
   "execution_count": null,
   "metadata": {},
   "outputs": [],
   "source": []
  },
  {
   "cell_type": "code",
   "execution_count": null,
   "metadata": {},
   "outputs": [],
   "source": [
    "import os\n",
    "import re\n",
    "import pandas as pd\n",
    "from datetime import datetime\n",
    "from config import db_host, db_name, db_user, db_pwd\n",
    "import pyodbc\n",
    "import pymysql\n",
    "from sqlalchemy import create_engine\n",
    "\n",
    "pymysql.install_as_MySQLdb()"
   ]
  },
  {
   "cell_type": "code",
   "execution_count": null,
   "metadata": {},
   "outputs": [],
   "source": [
    "\n",
    "engine = create_engine(f\"mysql://{db_user}:{db_pwd}@{db_host}/{db_name}\")\n",
    "cxn = engine.connect()"
   ]
  },
  {
   "cell_type": "code",
   "execution_count": null,
   "metadata": {},
   "outputs": [],
   "source": [
    "y_loc.to_sql('stg_invoice_detail_new_addresses_20200727', cxn)"
   ]
  },
  {
   "cell_type": "code",
   "execution_count": null,
   "metadata": {},
   "outputs": [],
   "source": [
    "mem_list.to_sql('temp_y_master', cxn)"
   ]
  },
  {
   "cell_type": "code",
   "execution_count": null,
   "metadata": {},
   "outputs": [],
   "source": [
    "stg_inv_detail = pd.read_sql('stg_invoice_detail', cxn)"
   ]
  },
  {
   "cell_type": "code",
   "execution_count": null,
   "metadata": {},
   "outputs": [],
   "source": [
    "len(stg_inv_detail)"
   ]
  },
  {
   "cell_type": "code",
   "execution_count": null,
   "metadata": {},
   "outputs": [],
   "source": [
    "y_loc.columns"
   ]
  },
  {
   "cell_type": "code",
   "execution_count": null,
   "metadata": {},
   "outputs": [],
   "source": [
    "#y_loc = y_loc[['Ship to Name', 'YMCA', 'name', 'address', 'placeid']]\n",
    "stg_inv_detail_df = pd.merge(stg_inv_detail, y_loc, left_on='ship_to_name', right_on='ship_to_name', how='left')"
   ]
  },
  {
   "cell_type": "code",
   "execution_count": null,
   "metadata": {},
   "outputs": [],
   "source": [
    "len(stg_inv_detail_df)"
   ]
  },
  {
   "cell_type": "code",
   "execution_count": null,
   "metadata": {},
   "outputs": [],
   "source": [
    "stg_inv_detail_df = stg_inv_detail_df.drop_duplicates(keep='first')\n"
   ]
  },
  {
   "cell_type": "code",
   "execution_count": null,
   "metadata": {},
   "outputs": [],
   "source": [
    "len(stg_inv_detail_df)"
   ]
  },
  {
   "cell_type": "code",
   "execution_count": null,
   "metadata": {},
   "outputs": [],
   "source": [
    "stg_inv_detail_df.head()"
   ]
  },
  {
   "cell_type": "code",
   "execution_count": null,
   "metadata": {},
   "outputs": [],
   "source": []
  },
  {
   "cell_type": "code",
   "execution_count": null,
   "metadata": {},
   "outputs": [],
   "source": [
    "stg_inv_detail_df.to_excel('stg_invoice_detail_w_master.xlsx')"
   ]
  },
  {
   "cell_type": "code",
   "execution_count": null,
   "metadata": {},
   "outputs": [],
   "source": [
    "stg_inv_detail_df.to_sql('stg_invoice_detail_w_master', cxn)"
   ]
  },
  {
   "cell_type": "code",
   "execution_count": null,
   "metadata": {},
   "outputs": [],
   "source": [
    "#mem_list = mem_list[['Date Joined', 'YPG PM', 'name', 'address', 'placeid']]\n",
    "#mem_list = mem_list.drop(mem_list.loc[mem_list['name'] == \"Nan's Family Daycare\"].index)\n",
    "#master_merge = pd.merge(foo2, mem_list, left_on='ymca_placeid', right_on='placeid', how='left')"
   ]
  },
  {
   "cell_type": "code",
   "execution_count": null,
   "metadata": {},
   "outputs": [],
   "source": []
  },
  {
   "cell_type": "code",
   "execution_count": null,
   "metadata": {},
   "outputs": [],
   "source": [
    "stg_invoice_detail_new_df.columns"
   ]
  },
  {
   "cell_type": "code",
   "execution_count": null,
   "metadata": {},
   "outputs": [],
   "source": [
    "stg_invoice_detail_new_df = pd.read_sql('stg_invoice_detail_new', cxn)"
   ]
  },
  {
   "cell_type": "code",
   "execution_count": null,
   "metadata": {},
   "outputs": [],
   "source": [
    "len(merged_addr)"
   ]
  },
  {
   "cell_type": "code",
   "execution_count": null,
   "metadata": {},
   "outputs": [],
   "source": [
    "stg_invoice_detail_new_addresses_df = pd.read_sql('stg_invoice_detail_new_addresses_20200728', cxn)"
   ]
  },
  {
   "cell_type": "code",
   "execution_count": null,
   "metadata": {},
   "outputs": [],
   "source": [
    "merged_addr = pd.merge(stg_invoice_detail_new_df, stg_invoice_detail_new_addresses_df, on='ship_to_full_address', how='left').drop_duplicates()\n"
   ]
  },
  {
   "cell_type": "code",
   "execution_count": null,
   "metadata": {},
   "outputs": [],
   "source": [
    "merged_addr"
   ]
  },
  {
   "cell_type": "code",
   "execution_count": null,
   "metadata": {},
   "outputs": [],
   "source": [
    "stg_invoice_detail_new_df['index'].value_counts()"
   ]
  },
  {
   "cell_type": "code",
   "execution_count": null,
   "metadata": {},
   "outputs": [],
   "source": [
    "stg_invoice_detail_new_df"
   ]
  },
  {
   "cell_type": "code",
   "execution_count": null,
   "metadata": {},
   "outputs": [],
   "source": [
    "merged_addr.drop_duplicates(inplace=True)"
   ]
  },
  {
   "cell_type": "code",
   "execution_count": null,
   "metadata": {},
   "outputs": [],
   "source": [
    "len(merged_w_loc)\n",
    "#414889"
   ]
  },
  {
   "cell_type": "code",
   "execution_count": null,
   "metadata": {},
   "outputs": [],
   "source": [
    "merged_addr.to_excel('merged_addr_20200728.xlsx')"
   ]
  },
  {
   "cell_type": "code",
   "execution_count": null,
   "metadata": {},
   "outputs": [],
   "source": [
    "official_list = pd.read_sql('geocoded_official_member_list_20200727', cxn)"
   ]
  },
  {
   "cell_type": "code",
   "execution_count": null,
   "metadata": {},
   "outputs": [],
   "source": [
    "official_list.drop_duplicates(inplace=True)"
   ]
  },
  {
   "cell_type": "code",
   "execution_count": null,
   "metadata": {},
   "outputs": [],
   "source": [
    "merged_w_loc = pd.merge(merged_addr, ofc_list, on='full_address', how='left')"
   ]
  },
  {
   "cell_type": "code",
   "execution_count": null,
   "metadata": {},
   "outputs": [],
   "source": [
    "official_list.to_excel('ofc-list.xlsx')"
   ]
  },
  {
   "cell_type": "code",
   "execution_count": null,
   "metadata": {},
   "outputs": [],
   "source": [
    "ofc_list = pd.read_excel('ofc-list.xlsx')"
   ]
  },
  {
   "cell_type": "code",
   "execution_count": null,
   "metadata": {},
   "outputs": [],
   "source": [
    "merged_w_loc.to_excel('merged_w_loc_20200728.xlsx')"
   ]
  },
  {
   "cell_type": "code",
   "execution_count": null,
   "metadata": {},
   "outputs": [],
   "source": [
    "merged_loc_w_geo = pd.read_excel('merged_w_loc_20200728.xlsx')"
   ]
  },
  {
   "cell_type": "code",
   "execution_count": null,
   "metadata": {},
   "outputs": [],
   "source": [
    "merged_loc_w_geo.to_sql('stg_invoice_detail_geo', cxn)"
   ]
  },
  {
   "cell_type": "code",
   "execution_count": null,
   "metadata": {},
   "outputs": [],
   "source": [
    "414889"
   ]
  }
 ],
 "metadata": {
  "kernelspec": {
   "display_name": "Python 3",
   "language": "python",
   "name": "python3"
  },
  "language_info": {
   "codemirror_mode": {
    "name": "ipython",
    "version": 3
   },
   "file_extension": ".py",
   "mimetype": "text/x-python",
   "name": "python",
   "nbconvert_exporter": "python",
   "pygments_lexer": "ipython3",
   "version": "3.8.5"
  },
  "latex_envs": {
   "LaTeX_envs_menu_present": true,
   "autoclose": false,
   "autocomplete": true,
   "bibliofile": "biblio.bib",
   "cite_by": "apalike",
   "current_citInitial": 1,
   "eqLabelWithNumbers": true,
   "eqNumInitial": 1,
   "hotkeys": {
    "equation": "Ctrl-E",
    "itemize": "Ctrl-I"
   },
   "labels_anchors": false,
   "latex_user_defs": false,
   "report_style_numbering": false,
   "user_envs_cfg": false
  }
 },
 "nbformat": 4,
 "nbformat_minor": 2
}
